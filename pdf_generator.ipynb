{
  "nbformat": 4,
  "nbformat_minor": 0,
  "metadata": {
    "colab": {
      "name": "pdf_generator.ipynb",
      "provenance": []
    },
    "kernelspec": {
      "name": "python3",
      "display_name": "Python 3"
    },
    "language_info": {
      "name": "python"
    }
  },
  "cells": [
    {
      "cell_type": "code",
      "execution_count": 4,
      "metadata": {
        "colab": {
          "base_uri": "https://localhost:8080/"
        },
        "id": "MezJEf3ccOlY",
        "outputId": "5f17fc28-8cab-4239-8cb0-31adc2a22b4d"
      },
      "outputs": [
        {
          "output_type": "stream",
          "name": "stdout",
          "text": [
            "Collecting reportlab\n",
            "  Downloading reportlab-3.6.8-cp37-cp37m-manylinux_2_17_x86_64.manylinux2014_x86_64.whl (2.7 MB)\n",
            "\u001b[K     |████████████████████████████████| 2.7 MB 4.2 MB/s \n",
            "\u001b[?25hRequirement already satisfied: pillow>=4.0.0 in /usr/local/lib/python3.7/dist-packages (from reportlab) (7.1.2)\n",
            "Installing collected packages: reportlab\n",
            "Successfully installed reportlab-3.6.8\n"
          ]
        }
      ],
      "source": [
        " # Instalando biblioteca\n",
        " pip install reportlab"
      ]
    },
    {
      "cell_type": "code",
      "source": [
        "# criando funções\n",
        "def num_to_words(month):\n",
        "  '''Retorna o mês em formato escrito'''\n",
        "  for mes_numero, mes_nome in calendario.items():\n",
        "    if month == mes_numero:\n",
        "      month = mes_nome\n",
        "      return month\n",
        "def dias_iniciais(dia):\n",
        "  '''Adiciona um zero a esquerda de dias entre 1 e 9'''\n",
        "  if dia < 10:\n",
        "    dia = str(dia).zfill(2)\n",
        "    return dia\n",
        "def memorando_0(memo):\n",
        "  '''Adiciona um zero a esquerda dos memorandos entre 1 e 9'''\n",
        "  if memo < 10:\n",
        "    memo = str(memo).zfill(2)\n",
        "    return memo"
      ],
      "metadata": {
        "id": "e2POuJl6G7fs"
      },
      "execution_count": 74,
      "outputs": []
    },
    {
      "cell_type": "code",
      "source": [
        "# pegando data atual\n",
        "import datetime\n",
        "\n",
        "dia = datetime.datetime.today().day\n",
        "mes = datetime.datetime.today().month\n",
        "ano = datetime.datetime.today().year\n",
        "print(dia)\n",
        "print(mes)\n",
        "print(ano)"
      ],
      "metadata": {
        "colab": {
          "base_uri": "https://localhost:8080/"
        },
        "id": "QtM_jtKs73PT",
        "outputId": "ec4fe53b-9bd1-4c82-a8ab-4db56b197fa4"
      },
      "execution_count": 75,
      "outputs": [
        {
          "output_type": "stream",
          "name": "stdout",
          "text": [
            "9\n",
            "3\n",
            "2022\n"
          ]
        }
      ]
    },
    {
      "cell_type": "code",
      "source": [
        "# dados para exemplo\n",
        "servidor = 'Allan Domingos Pereira de Andrade'\n",
        "matricula = 700091\n",
        "cargo = 'Auxiliar de Secretaria'\n",
        "data = '02/10/2022'\n",
        "data2 = '12/12/2022'\n",
        "motivo= 'Carência de Professor'\n",
        "UE = 'E M BARTHOLOMEU ANACLETO'\n",
        "diretor = 'Rosangela'\n",
        "memorando = 1 \n",
        "disciplina = 'Geografia'\n",
        "aulas_semanais = 6\n",
        "turno = 'MANHÃ'\n",
        "turma = 300\n",
        "calendario = {1:'Janeiro', 2:'Fevereiro', 3:'Março', 4:'Abril', 5:'Maio', 6:'Junho', 7:'Julho', 8:'Agosto', 9:'Setembro', 10:'Outubro', 11:'Novembro', 12:'Dezembro'}"
      ],
      "metadata": {
        "id": "si_mj_Lzm876"
      },
      "execution_count": 76,
      "outputs": []
    },
    {
      "cell_type": "markdown",
      "source": [
        "## Carência"
      ],
      "metadata": {
        "id": "JMhAbQ5HHLVq"
      }
    },
    {
      "cell_type": "code",
      "source": [
        "# Registro de carência\n",
        "from reportlab.pdfgen import canvas\n",
        "\n",
        "memorando +=1 \n",
        "nome_pdf = 'Registro_de_Carencia'\n",
        "pdf = canvas.Canvas('{}.pdf'.format(nome_pdf))\n",
        "pdf.setFont(\"Helvetica\", 12)\n",
        "pdf.drawString(170,770,'Prefeitura Municipal de Barra Mansa - PMBM')\n",
        "pdf.drawString(170,755,'Centro Administrativo Municipal Pref. Luiz Amaral - CAMPLA')\n",
        "pdf.drawString(170,740,'Secretaria Municipal de Educação - SME')\n",
        "pdf.setFont(\"Helvetica-Bold\", 12)\n",
        "pdf.drawString(100,710,f'Memorando {memorando_0(memorando)}/{ano}')\n",
        "pdf.setFont(\"Helvetica\", 12)\n",
        "pdf.drawString(350,690,f'Barra Mansa, {dias_iniciais(dia)} de {num_to_words(mes)} de {ano}')\n",
        "\n",
        "pdf.setFont(\"Helvetica-Bold\", 16)\n",
        "pdf.drawString(200,650, 'REGISTRO DE CARÊNCIA')\n",
        "pdf.setFont(\"Helvetica-Bold\", 12)\n",
        "pdf.drawString(100, 620, f'Unidade Escolar: {UE}')\n",
        "pdf.drawString(100,600, f'Diretor (a):  {diretor}')\n",
        "pdf.setFont(\"Helvetica\", 12)\n",
        "pdf.drawString(130,560, 'Prezado Senhor,')\n",
        "pdf.setFont(\"Helvetica\", 12)\n",
        "pdf.drawString(130, 520, f'SOLICITAMOS O REGISTRO DE CARÊNCIA PARA O(A): ')\n",
        "pdf.drawString(130, 490, f'SERVIDOR: {servidor};')\n",
        "pdf.drawString(130, 460, f'MATRÍCULA: {matricula};') \n",
        "pdf.drawString(130, 430, f'CARGO: {cargo};')\n",
        "pdf.drawString(130, 400, f'DURANTE O PERÍODO DE {data} A {data2};') \n",
        "pdf.drawString(130, 370, f'POR MOTIVOS DE: {motivo}.')\n",
        "pdf.setTitle(nome_pdf)\n",
        "pdf.setFont(\"Helvetica\", 12)\n",
        "pdf.drawString(130,270, 'Certo de sua habitual atenção')\n",
        "pdf.setFont(\"Helvetica\", 12)\n",
        "pdf.drawString(160,230, 'Att.,')\n",
        "pdf.drawString(220, 180, '________________________________')\n",
        "pdf.drawString(280, 150, 'Diretor Geral')\n",
        "pdf.setFont(\"Helvetica\", 8)\n",
        "pdf.drawString(230, 50, f'Secretaria Municipal de Educação de Barra Mansa')\n",
        "pdf.drawString(255, 40, f'Rua Luiz Ponce, nº 263, 3º/4º andar,')\n",
        "pdf.drawString(270, 30, f'Centro – Barra Mansa-RJ')\n",
        "pdf.drawString(285, 20, f'Tel.: 24 2106 3444')\n",
        "\n",
        "pdf.save()\n",
        "print('{}.pdf criado com sucesso!'.format(nome_pdf))"
      ],
      "metadata": {
        "colab": {
          "base_uri": "https://localhost:8080/"
        },
        "id": "ILN49kOPjriL",
        "outputId": "ec10e78e-3a8e-4e20-cf25-ff5bd25fe99a"
      },
      "execution_count": 77,
      "outputs": [
        {
          "output_type": "stream",
          "name": "stdout",
          "text": [
            "Registro_de_Carencia.pdf criado com sucesso!\n"
          ]
        }
      ]
    },
    {
      "cell_type": "markdown",
      "source": [
        "## Hora Extra"
      ],
      "metadata": {
        "id": "30qcFI5jHOof"
      }
    },
    {
      "cell_type": "code",
      "source": [
        "# Solicitacao de hora extra\n",
        "from reportlab.pdfgen import canvas\n",
        "\n",
        "memorando +=1 \n",
        "nome_pdf = 'Hora_extra'\n",
        "pdf = canvas.Canvas('{}.pdf'.format(nome_pdf))\n",
        "pdf.setFont(\"Helvetica\", 12)\n",
        "pdf.drawString(170,770,'Prefeitura Municipal de Barra Mansa - PMBM')\n",
        "pdf.drawString(170,755,'Centro Administrativo Municipal Pref. Luiz Amaral - CAMPLA')\n",
        "pdf.drawString(170,740,'Secretaria Municipal de Educação - SME')\n",
        "pdf.setFont(\"Helvetica-Bold\", 12)\n",
        "pdf.drawString(100,710,f'Memorando {memorando_0(memorando)}/{ano}')\n",
        "pdf.setFont(\"Helvetica\", 12)\n",
        "pdf.drawString(350,690,f'Barra Mansa, {dias_iniciais(dia)} de {num_to_words(mes)} de {ano}')\n",
        "\n",
        "pdf.setFont(\"Helvetica-Bold\", 16)\n",
        "pdf.drawString(200,650, 'SOLICITAÇÃO DE HORA EXTRA')\n",
        "pdf.setFont(\"Helvetica-Bold\", 12)\n",
        "pdf.drawString(100, 620, f'Unidade Escolar: {UE}')\n",
        "pdf.drawString(100,600, f'Diretor(a):  {diretor}')\n",
        "pdf.setFont(\"Helvetica\", 12)\n",
        "pdf.drawString(130,560, 'Prezado Senhor,')\n",
        "pdf.setFont(\"Helvetica\", 12)\n",
        "pdf.drawString(130, 520, f'SOLICITAMOS A AUTORIZAÇÃO DE HORA EXTRA PARA O(A): ')\n",
        "pdf.drawString(130, 490, f'SERVIDOR: {servidor};')\n",
        "pdf.drawString(130, 460, f'MATRÍCULA: {matricula};') \n",
        "pdf.drawString(130, 430, f'CARGO: {cargo};')\n",
        "pdf.drawString(130, 400, f'DURANTE O PERÍODO DE {data} A {data2};') \n",
        "pdf.drawString(130, 370, f'POR MOTIVOS DE: {motivo}.')\n",
        "pdf.setTitle(nome_pdf)\n",
        "pdf.setFont(\"Helvetica\", 12)\n",
        "pdf.drawString(130,270, 'Certo de sua habitual atenção')\n",
        "pdf.setFont(\"Helvetica\", 12)\n",
        "pdf.drawString(160,230, 'Att.,')\n",
        "pdf.drawString(220, 180, '________________________________')\n",
        "pdf.drawString(280, 150, 'Diretor Geral')\n",
        "pdf.setFont(\"Helvetica\", 8)\n",
        "pdf.drawString(230, 50, f'Secretaria Municipal de Educação de Barra Mansa')\n",
        "pdf.drawString(255, 40, f'Rua Luiz Ponce, nº 263, 3º/4º andar,')\n",
        "pdf.drawString(270, 30, f'Centro – Barra Mansa-RJ')\n",
        "pdf.drawString(285, 20, f'Tel.: 24 2106 3444')\n",
        "\n",
        "pdf.save()\n",
        "print('{}.pdf criado com sucesso!'.format(nome_pdf))"
      ],
      "metadata": {
        "colab": {
          "base_uri": "https://localhost:8080/"
        },
        "id": "brpnMpXJz5Kh",
        "outputId": "b1c2ac11-eec2-430e-da78-86d29f135cff"
      },
      "execution_count": 78,
      "outputs": [
        {
          "output_type": "stream",
          "name": "stdout",
          "text": [
            "Hora_extra.pdf criado com sucesso!\n"
          ]
        }
      ]
    },
    {
      "cell_type": "markdown",
      "source": [
        "## Aula Extra"
      ],
      "metadata": {
        "id": "fLYb6FHSHRLq"
      }
    },
    {
      "cell_type": "code",
      "source": [
        "# Solicitacao de aula extra\n",
        "from reportlab.pdfgen import canvas\n",
        "\n",
        "memorando +=1 \n",
        "nome_pdf = 'Aula_Extra'\n",
        "pdf = canvas.Canvas('{}.pdf'.format(nome_pdf))\n",
        "pdf.setFont(\"Helvetica\", 12)\n",
        "pdf.drawString(170,770,'Prefeitura Municipal de Barra Mansa - PMBM')\n",
        "pdf.drawString(170,755,'Centro Administrativo Municipal Pref. Luiz Amaral - CAMPLA')\n",
        "pdf.drawString(170,740,'Secretaria Municipal de Educação - SME')\n",
        "pdf.setFont(\"Helvetica-Bold\", 12)\n",
        "pdf.drawString(100,710,f'Memorando {memorando_0(memorando)}/{ano}')\n",
        "pdf.setFont(\"Helvetica\", 12)\n",
        "pdf.drawString(350,690,f'Barra Mansa, {dias_iniciais(dia)} de {num_to_words(mes)} de {ano}')\n",
        "\n",
        "pdf.setFont(\"Helvetica-Bold\", 16)\n",
        "pdf.drawString(200,650, 'SOLICITAÇÃO DE AULA EXTRA')\n",
        "pdf.setFont(\"Helvetica-Bold\", 12)\n",
        "pdf.drawString(100, 610, f'Unidade Escolar: {UE}')\n",
        "pdf.drawString(100,590, f'Diretor(a):  {diretor}')\n",
        "pdf.setFont(\"Helvetica\", 12)\n",
        "pdf.drawString(130,550, 'Prezado Senhor,')\n",
        "pdf.setFont(\"Helvetica\", 12)\n",
        "pdf.drawString(130, 500, f'SOLICITAMOS A AUTORIZAÇÃO DE AULA EXTRA PARA O(A): ')\n",
        "pdf.drawString(130, 470, f'SERVIDOR: {servidor};')\n",
        "pdf.drawString(130, 440, f'MATRÍCULA: {matricula};') \n",
        "pdf.drawString(130, 410, f'CARGO: {cargo};')\n",
        "pdf.drawString(130, 380, f'DISCIPLINA: {disciplina};')\n",
        "pdf.drawString(130, 350, f'DURANTE O PERÍODO DE {data} A {data2};')\n",
        "pdf.drawString(130, 320, f'QUANTIDADE DE AULAS POR SEMANA: {aulas_semanais};') \n",
        "pdf.drawString(130, 290, f'POR MOTIVOS DE: {motivo}.')\n",
        "pdf.setTitle(nome_pdf)\n",
        "pdf.setFont(\"Helvetica\", 12)\n",
        "pdf.drawString(130,230, 'Certo de sua habitual atenção')\n",
        "pdf.setFont(\"Helvetica\", 12)\n",
        "pdf.drawString(160,190, 'Att.,')\n",
        "pdf.drawString(220, 140, '________________________________')\n",
        "pdf.drawString(280, 120, 'Diretor Geral')\n",
        "pdf.setFont(\"Helvetica\", 8)\n",
        "pdf.drawString(230, 50, f'Secretaria Municipal de Educação de Barra Mansa')\n",
        "pdf.drawString(255, 40, f'Rua Luiz Ponce, nº 263, 3º/4º andar,')\n",
        "pdf.drawString(270, 30, f'Centro – Barra Mansa-RJ')\n",
        "pdf.drawString(285, 20, f'Tel.: 24 2106 3444')\n",
        "\n",
        "pdf.save()\n",
        "print('{}.pdf criado com sucesso!'.format(nome_pdf))"
      ],
      "metadata": {
        "colab": {
          "base_uri": "https://localhost:8080/"
        },
        "id": "4eaDvgWImLBQ",
        "outputId": "e6371a95-1a50-4090-cef0-abed1c8cc8b3"
      },
      "execution_count": 79,
      "outputs": [
        {
          "output_type": "stream",
          "name": "stdout",
          "text": [
            "Aula_Extra.pdf criado com sucesso!\n"
          ]
        }
      ]
    },
    {
      "cell_type": "markdown",
      "source": [
        "## Dupla Regência"
      ],
      "metadata": {
        "id": "MHZwJbMGHTlj"
      }
    },
    {
      "cell_type": "code",
      "source": [
        "# Solicitacao de dupla regencia\n",
        "from reportlab.pdfgen import canvas\n",
        "\n",
        "memorando +=1 \n",
        "nome_pdf = 'Dupla_Regencia'\n",
        "pdf = canvas.Canvas('{}.pdf'.format(nome_pdf))\n",
        "pdf.setFont(\"Helvetica\", 12)\n",
        "pdf.drawString(170,770,'Prefeitura Municipal de Barra Mansa - PMBM')\n",
        "pdf.drawString(170,755,'Centro Administrativo Municipal Pref. Luiz Amaral - CAMPLA')\n",
        "pdf.drawString(170,740,'Secretaria Municipal de Educação - SME')\n",
        "pdf.setFont(\"Helvetica-Bold\", 12)\n",
        "pdf.drawString(100,710,f'Memorando {memorando_0(memorando)}/{ano}')\n",
        "pdf.setFont(\"Helvetica\", 12)\n",
        "pdf.drawString(350,690,f'Barra Mansa, {dias_iniciais(dia)} de {num_to_words(mes)} de {ano}')\n",
        "\n",
        "pdf.setFont(\"Helvetica-Bold\", 16)\n",
        "pdf.drawString(200,650, 'SOLICITAÇÃO DE DUPLA REGÊNCIA')\n",
        "pdf.setFont(\"Helvetica-Bold\", 12)\n",
        "pdf.drawString(100, 610, f'Unidade Escolar: {UE}')\n",
        "pdf.drawString(100,590, f'Diretor(a):  {diretor}')\n",
        "pdf.setFont(\"Helvetica\", 12)\n",
        "pdf.drawString(130,550, 'Prezado Senhor,')\n",
        "pdf.setFont(\"Helvetica\", 12)\n",
        "pdf.drawString(130, 500, f'SOLICITAMOS A AUTORIZAÇÃO DE DUPLA REGÊNCIA PARA O(A): ')\n",
        "pdf.drawString(130, 470, f'SERVIDOR: {servidor};')\n",
        "pdf.drawString(130, 440, f'MATRÍCULA: {matricula};') \n",
        "pdf.drawString(130, 410, f'CARGO: {cargo};')\n",
        "pdf.drawString(130, 380, f'DISCIPLINA: {disciplina};')\n",
        "pdf.drawString(130, 350, f'DURANTE O PERÍODO DE {data} A {data2};')\n",
        "pdf.drawString(130, 320, f'NA TURMA: {turma};')\n",
        "pdf.drawString(130, 290, f'DURANTE O TURNO: {turno};') \n",
        "pdf.drawString(130, 260, f'POR MOTIVOS DE: {motivo}.')\n",
        "pdf.setTitle(nome_pdf)\n",
        "pdf.setFont(\"Helvetica\", 12)\n",
        "pdf.drawString(130,200, 'Certo de sua habitual atenção')\n",
        "pdf.setFont(\"Helvetica\", 12)\n",
        "pdf.drawString(160,160, 'Att.,')\n",
        "pdf.drawString(220, 110, '________________________________')\n",
        "pdf.drawString(280, 90, 'Diretor Geral')\n",
        "pdf.setFont(\"Helvetica\", 8)\n",
        "pdf.drawString(230, 50, f'Secretaria Municipal de Educação de Barra Mansa')\n",
        "pdf.drawString(255, 40, f'Rua Luiz Ponce, nº 263, 3º/4º andar,')\n",
        "pdf.drawString(270, 30, f'Centro – Barra Mansa-RJ')\n",
        "pdf.drawString(285, 20, f'Tel.: 24 2106 3444')\n",
        "\n",
        "pdf.save()\n",
        "print('{}.pdf criado com sucesso!'.format(nome_pdf))"
      ],
      "metadata": {
        "colab": {
          "base_uri": "https://localhost:8080/"
        },
        "id": "fonCmtDLB3fy",
        "outputId": "29cd4bee-7376-4cd2-a5c2-565b13b82396"
      },
      "execution_count": 80,
      "outputs": [
        {
          "output_type": "stream",
          "name": "stdout",
          "text": [
            "Dupla_Regencia.pdf criado com sucesso!\n"
          ]
        }
      ]
    }
  ]
}